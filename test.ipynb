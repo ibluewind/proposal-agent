{
 "cells": [
  {
   "cell_type": "markdown",
   "metadata": {},
   "source": [
    "### PPT 문서 변환\n",
    "#### Markdown 형식으로 변환\n",
    "\n",
    "##### 1. PPT 파일 읽기"
   ]
  },
  {
   "cell_type": "code",
   "execution_count": 9,
   "metadata": {},
   "outputs": [],
   "source": [
    "SAMPLE_PPT = \"data/proposal-documents/수행계획서_v.1.1.pptx\""
   ]
  },
  {
   "cell_type": "code",
   "execution_count": 60,
   "metadata": {},
   "outputs": [],
   "source": [
    "from pptx import Presentation\n",
    "from langchain_text_splitters import ( Language, RecursiveCharacterTextSplitter, MarkdownHeaderTextSplitter )\n",
    "from langchain_community.embeddings import OllamaEmbeddings\n",
    "from langchain_chroma import Chroma\n",
    "import pathlib\n",
    "import os\n",
    "\n",
    "def pptx_to_markdown(pptx_path):\n",
    "    presentation = Presentation(pptx_path)\n",
    "    output_path = f\"data/output/{pathlib.Path(pptx_path).stem}.md\"\n",
    "    markdown_content = []\n",
    "    \n",
    "    # 각 슬라이드(페이지) 처리\n",
    "    for slide_number, slide in enumerate(presentation.slides, start=1):\n",
    "        markdown_content.append(f\"\\n# 슬라이드 {slide_number}\\n\")\n",
    "        \n",
    "        # 슬라이드의 모든 shape 처리\n",
    "        for shape in slide.shapes:\n",
    "            if hasattr(shape, \"text\") and shape.text.strip():\n",
    "                # 텍스트가 제목 형식인 경우\n",
    "                if shape.name.startswith(\"Title\"):\n",
    "                    markdown_content.append(f\"## {shape.text.strip()}\\n\")\n",
    "                else:\n",
    "                    # 일반 텍스트인 경우\n",
    "                    text_lines = shape.text.strip().split('\\n')\n",
    "                    for line in text_lines:\n",
    "                        if line.strip():\n",
    "                            markdown_content.append(f\"{line.strip()}\\n\")\n",
    "    \n",
    "    # 결과를 마크다운 파일로 저장\n",
    "    with open(output_path, 'w', encoding='utf-8') as file:\n",
    "        file.write(\"\\n\".join(markdown_content))\n",
    "        \n",
    "def load_pptx_to_markdown_advanced(pptx_path):\n",
    "    presentation = Presentation(pptx_path)\n",
    "    # output_path = f\"data/output/{pathlib.Path(pptx_path).stem}.md\"\n",
    "    markdown_content = []\n",
    "    \n",
    "    for slide_number, slide in enumerate(presentation.slides, start=1):\n",
    "        markdown_content.append(f\"\\n# 슬라이드 {slide_number}\\n\")\n",
    "        \n",
    "        # 이미지 저장을 위한 디렉토리 생성\n",
    "        image_dir = \"data/output/images\"\n",
    "        os.makedirs(image_dir, exist_ok=True)\n",
    "        \n",
    "        for shape in slide.shapes:\n",
    "            # 텍스트 처리\n",
    "            if hasattr(shape, \"text\") and shape.text.strip():\n",
    "                if shape.name.startswith(\"Title\"):\n",
    "                    markdown_content.append(f\"## {shape.text.strip()}\\n\")\n",
    "                else:\n",
    "                    # 글머리 기호 처리\n",
    "                    if shape.text.strip().startswith('•'):\n",
    "                        text_lines = shape.text.strip().split('\\n')\n",
    "                        for line in text_lines:\n",
    "                            if line.strip().startswith('•'):\n",
    "                                markdown_content.append(\"f* {line.strip()[1:]}\\n\")\n",
    "                            else:\n",
    "                                markdown_content.append(\"f{line.strip()}\\n\")\n",
    "                    else:\n",
    "                        markdown_content.append(f\"{shape.text.strip()}\\n\")\n",
    "            elif shape.shape_type == 13:\n",
    "                # 이미지 처리\n",
    "                image_name = shape.name.strip().replace(' ', '_')\n",
    "                image_path = f\"{image_dir}/{image_name}.png\"\n",
    "                \n",
    "                if not os.path.exists(image_path):\n",
    "                    with open(image_path, 'wb') as f:\n",
    "                        f.write(shape.image.blob)\n",
    "                markdown_content.append(f\"![image]({image_path})\\n\")\n",
    "        \n",
    "    return \"\".join(markdown_content), pathlib.Path(pptx_path).name\n",
    "\n",
    "def split_document(markdown_content, source_name):\n",
    "    splitter = RecursiveCharacterTextSplitter(\n",
    "        chunk_size=1000,\n",
    "        chunk_overlap=200,\n",
    "        length_function=len,\n",
    "        language=Language.MARKDOWN\n",
    "    )\n",
    "    return splitter.split_documents(markdown_content)\n",
    "\n",
    "def split_document_from_markdown(markdown_content, source_name):\n",
    "    headers_to_split_on = [\n",
    "        (\"#\", \"Header\"),\n",
    "    ]\n",
    "    \n",
    "    splitter = MarkdownHeaderTextSplitter(\n",
    "        headers_to_split_on=headers_to_split_on\n",
    "    )\n",
    "    return splitter.split_text(markdown_content)\n",
    "\n",
    "\"\"\"\n",
    "Split 된 문서를 벡터 스토어에 저장\n",
    "문서 Embedding 처리 병행\n",
    "\"\"\"\n",
    "def store_documents(documents):\n",
    "    db = Chroma.from_documents(\n",
    "        documents=documents,\n",
    "        embedding=OllamaEmbeddings(model=\"nomic-embed-text\"),\n",
    "        persist_directory=\"data/vectorstore\",\n",
    "        collection_name=\"proposal-documents\"\n",
    "    )\n",
    "    return db\n",
    "\n"
   ]
  },
  {
   "cell_type": "code",
   "execution_count": 61,
   "metadata": {},
   "outputs": [
    {
     "name": "stdout",
     "output_type": "stream",
     "text": [
      "{'ids': ['1741ce9b-5c5e-4875-aaf8-7ff98de125de', '1b5fbd39-3c63-4f5a-9c77-97a810665289', 'ae352465-db31-4c7c-9d4a-0474c06bf1c0', '5b76b864-1ff9-4174-b034-82eca51121cf', '7935e054-3930-451c-b679-d5c41ed6fe39', 'c130719b-cbe0-4fbc-a7bf-d76fce7af726', '0ff96d1a-62db-4a15-af63-b262a71fcc0d', '0353a789-85ce-45ec-9dbe-7156e63be303', '0cd4be5d-196a-4407-ba2d-666d16bde29e', '70d7576c-bd79-425d-b4b0-05f85c6b9330', '0fe973ff-d349-48ce-96df-15a3c8eed6fc', '953dab9f-c3b7-43be-8993-3957134549ca', 'c631bd82-052e-413d-bac0-b201925b1635', '73a49465-ff62-46b5-ae5d-9d7f7cb30dac', '74ae09c3-d122-4f69-874a-d4c1d88f3fdb', 'a7379c45-4192-42b2-8ca7-3d99550882f2', 'bd174d1f-73d6-4113-8cb0-2281ea1cc151', '9e2af934-677f-4c02-a40d-00a42f0d11db', '7c10a4d9-89c8-4151-a2dd-2a842085b04e', '071ccad3-139c-48fa-bfdd-e7812c2621e2', 'e3fa1bb5-5160-45d3-9d49-104652a925b7', 'dc31e47d-70bc-44ad-9425-c784f3687a94', 'c1168538-68c3-4af2-8f5b-ac2d432eb235'], 'embeddings': None, 'documents': ['멤버스 BI 고도화\\n수행계획서\\n2018. 12. 07\\nDraft', '목차\\n1\\n사업개요\\n2\\n수행조직\\n3\\n구축방안\\n4\\n추진일정\\n5\\n프로젝트 관리\\n6\\n지원계획', '1. 사업의 개요\\n“개발형 미래 사업 플랫폼“ 기반을 견고히 하고 “생활 포털 플랫폼“ 확장에 대비하기 위한 “정형 분석 플랫폼“\\n구축으로 다양한 분석 서비스를 적기에 제공합니다.\\n1. 사업개요', '1. 조직별 역할\\n* 비상주\\n2. 수행조직\\nLMOS에 대한 종합적인 개선 재구축 요건에 의한 서비스 모델(안)을 수립하고, 장표 정의를 위한 BI솔루션 전문\\n컨설팅 인력과  BI 시스템 구축을 위한 핵심 기술 전문인력들을 중심으로 사업수행 조직을 구성합니다.', '1. 시스템 개념도\\nDW\\n![image](data/output/images/그림_17.png)\\n![image](data/output/images/그림_18.png)\\nE\\nT\\nL  \\n구\\n축\\n데이터마트(DM)\\n![image](data/output/images/그림_23.png)\\n![image](data/output/images/그림_24.png)\\n통합분석포탈\\n![image](data/output/images/그림_33.png)\\n![image](data/output/images/그림_34.png)\\n사용자 관리\\n서비스 안내/매뉴얼\\nFAQ/Q&A\\n데이터 공유\\n서비스 소개\\n사용자\\n![image](data/output/images/그림_44.png)\\n![image](data/output/images/그림_45.png)\\n일반사용자\\n보고서 조회\\n비정형 분석\\n![image](data/output/images/그림_82.png)\\nLMOS\\n![image](data/output/images/그림_84.png)\\n![image](data/output/images/그림_85.png)\\n![image](data/output/images/그림_121.png)\\n제휴사 분석\\n포인트 분석\\n회원 분석\\n제휴적립사용분석\\n무기명카드\\n현황 분석\\n카드 종류 및 발급 현황분석\\n상품 분석\\n지표 분석\\n멤버스유형 분석\\n신규/휴면회원분석\\n점포이용현황분석\\n캠페인연동\\nBI 고도화는 데이터웨어하우스(DW), 데이터마트(DM) 및 In-Memory를 기반으로 대시보드 ∙ 정형 ∙ 비정형 분석을 지원하는 LMOS 영역, 사용자들의 BI 시스템 접근 경로인 통합분석포탈 영역으로 구성합니다.\\n3. 구축방안\\n사용자 권한 관리\\n통합 로그인\\n데이터 제공 요청\\n접속 기록 모니터링\\n메뉴 관리\\nMSTR 커스터마이징\\n캠페인결과분석', '2. 프로젝트 범위\\nLMOS, GCRM 및 향후 확장될 다양한 분석 서비스를 통합하는 접속 관문 제공\\n서비스 소개 메뉴 제공 (고정 컨텐츠 페이지)\\n편리한 서비스 안내 및 매뉴얼 제공\\n데이터 공유 및 제공 요청 메뉴 제공\\n관리자 기능 (사용자 계정 및 권한 관리, 통합 로그인, 접속 기록 모니터링, 메뉴 관리)\\n01\\n통합분석\\n포탈 구축\\n02\\nLMOS 재구축\\n2.1 분석 솔루션 도입\\nOLAP 및 데이터 시각화 분석 솔루션 도입\\nMicroStrategy 도입\\n사용자 수\\nActive User : 200명\\n2.2 정형/비정형 분석 보고서 구축\\nLMOS 재구축 요건에 의해 서비스 모델(안) 수립 및 장표 정의   BI 컨설팅 업무 포함\\n정형리포트 100종(대시보드 5종 포함), 비정형보고서 10종\\n자율 분석 기능\\n캠페인 시스템 및 발송 채널과 데이터 연동을 통한 발송 결과 리포트 구축\\n분석 결과에 추출된 고객데이터를 캠페인 시스템 연동 및 전송\\n2.3 사용자 계정 관리\\n2.4 사용자 계층별 교육\\n1) 통합분석포탈 구축 과 2) LMOS 재구축 으로 범위를 정합니다.\\n3. 구축방안', '1. LMOS재구축\\nLMOS 재구축 분석 요구사항을 바탕으로 분석 유형별 리포트(대시보드, 정형, 비정형, 부서별, 개인리포트)를 구성하며, 캐시 및 스케줄링 적용, 다양한 방식의 분석 템플릿 제공 등 각 분석 유형별 특성에 적합한 솔루션 기술 요소를 적용하여 리포트를 개발합니다.\\n제휴사 분석\\n제휴사별 총 회원수 현황\\n제휴사별 이용 회원수 현황\\n제휴사별 이용속성별 현황\\n회원 분석\\n점별 신규회원 이용 현황\\n휴면회원 현황\\n우편번호별 회원 현황\\n포인트 분석\\n포인트 현황\\n적립/사용 현황\\n카드 실적\\n카드종류/발급구분 현황\\n멤버스 카드 발급현황\\n무기명 카드 교부 및 등록 현황\\n제휴사 분석\\nSSO 제휴사 현황\\n멤버스 분석\\n멤버스 가입 유형 현황\\n요일별 멤버스 분포\\n회원 분석\\n신규회원 현황\\n기간별 휴면회원 현황\\n제휴사별 탈퇴회원 현황\\n수수료 정산 분석\\n제휴사 유형별 수수료 현황\\n카드 종류별 수수료 현황\\n캠페인 분석\\n쿠폰 발행 대상 고객 추출\\n제휴사별 캠페인 대상 고객 추출\\n회원 분석\\n멤버스 가입 회원 유형 분석\\n회원 유형별 포인트 사용 패턴\\n제휴사 분석\\n제휴사 트렌드 분석\\n시스템관리\\n![image](data/output/images/그림_54.png)\\n접속 현황, 리포트 실행 현황, 개체 사용 현황 등 시스템 사용 통계 조회용 리포트\\n![image](data/output/images/그림_56.png)\\n개인리포트\\n![image](data/output/images/그림_59.png)\\n각 사용자별 리포트 영역\\n개인화 된 리포트 보관\\n![image](data/output/images/그림_61.png)\\n부서별리포트\\n![image](data/output/images/그림_64.png)\\n각 부서 단위의 공유 리포트\\n부서별 특화된 리포트\\n개인 생성 리포트를 부서내 공유시 활용\\n![image](data/output/images/그림_66.png)\\n시각화 및 동적 기능 활용\\n캐시 및 스케줄링 적용으로\\n리포트 성능 확보\\n사용하기 편리한 UI 적용\\n리포트 조회 결과를\\n다양한 OLAP 기능으로 분석\\n분석주제별\\n폴더링\\n반정형\\n리포트\\n리포트/큐브\\n템플릿\\nSelf-Visualization\\n사용자 리포트 저장 및 공유\\n시스템 유지관리에 필요한\\n각종 시스템 통계정보 제공\\n카드 분석\\n모집경로별 카드발급 현황\\n대시보드\\n정형 리포트\\n비정형 분석\\n3. 구축방안\\n3. LMOS 재구축', '2. 정형보고서\\n정보분석 요구사항 중 업무별 보고자료와 같이 일정한 형식과 포맷을 가지고 정기적으로 사용되는 요구사항은\\n단순 조회 조건 입력 후 조회하는 방식의 정형 리포트로 개발하여 현업 사용자들이 손쉽게 원하는 형태의 자료로 획득할 수 있도록 구현합니다.\\n![image](data/output/images/Picture_2.png)\\n항목\\n추가/제거\\n“선호채널” 추가\\n![image](data/output/images/그림_31.png)\\n![image](data/output/images/그림_32.png)\\n조회조건 입력\\n데이터 조회 결과 영역\\n차원과 지표를 Drag & Drop 하여 원하는 데이터 조회\\n3. 구축방안\\n3. LMOS 재구축', '3. 비정형보고서(1/2)\\n별도의 프로그램 설치 없이 웹 기반으로 시각화 도구에서 제공하는 HTML 5 기반의 다양한 시각화 위젯을  활용하여 사용자들이  IT 인력의 도움 없이 정형/비정형 리포트 또는 외부 데이터에 대해 시각적 고급 분석을 수행 할 수 있는 Self-Visualization 분석 환경을 제공합니다.\\n![image](data/output/images/Picture_4.png)\\n1. 시각화 방식 선택\\n2. 분석 대상 데이터 항목 선택\\n3. 시각화 대상 분석항목을 원하는 장소에 Drag & Drop\\n4. 필터 기능을 이용하여 분석 대상 정제\\n5. 시각화 결과 확인\\n3. 구축방안\\n3. LMOS 재구축', '3. 비정형보고서(2/2)\\n사용자들이 준비된 분석 메타 항목들을 이용하여 Drag&Drop 방식으로 직접 다양한 관점으로 비정형 리포트를 작성할 수 있도록 하며, 선진화된 분석 도구에서 제공하는 비정형 분석 기능을 활용하여 보다 쉽게 데이터 분석을 수행할 수 있도록 합니다.\\n![image](data/output/images/Picture_2.png)\\n![image](data/output/images/Picture_3.png)\\n분석메타 항목\\n리포트 템플릿(조회 항목)\\n필터 조건\\n실  \\n행\\n3. 구축방안\\n![image](data/output/images/그림_23.png)\\n![image](data/output/images/그림_24.png)\\n3. LMOS 재구축', '4. 대시보드\\n주요 업무별 현황을 한눈에 종합적으로 파악할 수 있도록 필요한 정보를 요약하여 시각적으로 표현된 대시보드를 구현하여 사용자들이  직관적으로 핵심 정보를 파악할 수 있는 있도록 하며, LMOS 리포트와 연계하여 확장 분석이 가능하도록 구축합니다.\\n자체 Flash 엔진 및 화려한 Flash    컴포넌트에 기반한 Flash 대시보드 제공\\nOLAP 리포트를 소스로 활용   하여 대시보드를 구현함으로써 데이터 일관성 확보\\n경영 현황 및 성과에 대한 빠르고 직관적인 파악을 지원해 주는 주요 KPI에  대한 상시 모니터링\\n여러 탭으로 구성된 화면 구현 및  다양한 선택 컨트롤을 제공으로 한 화면에 많은   정보를 집약적으로 표현한  대시보드 구현\\n특정 지표에 대한 이상 발생 시 OLAP의 정형 리포트로 연동, 추가 분석을 통해 원인 추적 지원\\n1\\n2\\n3\\n4\\n5\\n![image](data/output/images/Picture_3.png)\\n기간 선택기\\n멀티탭 대시보드\\n데이터 값 선택\\n3. 구축방안\\n![image](data/output/images/그림_40.png)\\n3. LMOS 재구축', '5. 자율분석\\n설정한 UI/UX 기준에 맞게 사용자의 쉬운 자율 분석 기능을 제공하기 위하여 1) 자주 사용되는 분석 케이스를 리포트 템플릿으로 제공하며, 특히 2) 분석 빈도가 높은  케이스는 큐브 리포트로 제공합니다. 표준 템플릿은 분석의 성능을 보장함과 동시에 시스템 자원을 효율적으로 사용할 수 있도록 함으로써 사용자의 손쉬운 데이터 분석을 지원합니다.\\n리포트 템플릿 구성\\n자주 사용되는 분석    케이스를 리포트 템플릿으로 구성\\n비정형 리포트 생성 시 원하는 템플릿 선택\\n분석 빈도가 특히 높고 분석 성능 이슈가 있는 케이스를  큐브로 구성\\n메모리 상에 로드 된 큐브에서 리포트를 실행하며 분석 성능 확보\\n스케쥴링을 통해 큐브 데이터를 주기적으로 업데이트하여 분석 데이터 관리\\n큐브 템플릿 구성\\n3. 구축방안\\n3. LMOS 재구축', '6. 사용자 계정 관리\\n솔루션의 Command Manager 기능을 활용하여 사용자 일괄 등록 또는 정기/비정기적 인사 이동으로 인한 사용자 변경 시 자동 반영하도록 DB상에 저장되어 있는 조직 정보를 자동으로 연계하여 등록할 수 있도록 제공합니다.  또한, 기본적인 사용자 관리는 통합분석포탈을 통해 관리합니다.\\n![image](data/output/images/Picture_9.png)\\n![image](data/output/images/Picture_10.png)\\n![image](data/output/images/그림_18.png)\\n사용자 관리 인터페이스\\n사용자 생성 스크립트 예시\\n![image](data/output/images/Picture_3.png)\\n사용자가 자동 추가/그룹 변경/계정 정지등을 반영\\n(통합분석포탈 연동)\\n스케줄에 따라\\n스크립트 배치 실행\\n3. 구축방안\\n3. LMOS 재구축', '7. 대용량 데이터 분석 성능\\n업무 영역 및 사용 목적에 따라 Multi-level Cache, In-Memory, 집계 인식 등의 다양한 기술을 활용하여 분석 업무의 확대에 대응하여 유연하게 확장 가능 하며, 대용량 데이터 환경에서도 빠른 리포트 조회 성능을 제공합니다.\\n업무 영역 및 사용 목적에 따라 Cache, In-memory Cube, Summary Table, DW 등 액세스 데이터 소스를 설계함으로써 성능 관리\\n대시보드 영역은 Cache 엔진 활용으로 3초~5초 이내 빠른 응답 속도 제공하며, 해당 Cache는 ETL과 연계한 스케줄링 설계로 최신 데이터 제공\\n정형화된 통계 데이터에 대해서는 Cache 엔진 사용으로 수 초 이내의\\n응답 속도 제공\\n특정 고객 등 제한된 소량의 데이터 조회는 RDBMS의 인덱싱 기술로 수 초 이내의 응답 속도 제공\\n대용량 데이터를 액세스할 필요가 있는 경우 In-memory ROLAP Cube 활용으로 수초 ~ 수 십 초 이내의 응답 속도 제공\\n예측 가능하고 Cube로 생성 가능한 요건에 대해서는  In-memory Cube를 활용하여 수초~수십초 이내의  응답 속도 제공\\nDW(RDBMS) 액세스가 필요한 경우 적정 레벨로 Summary Table을  관리함으로써 수 분대의 성능 관리\\n영역별 업무처리 성능 관리 (데이터 캐시 레이어 정의)\\n정형리포트/대시보드 영역\\n비정형 분석 영역\\n3. 구축방안\\n3. LMOS 재구축', '1. 포탈 화면 구성 방안\\n사용자 로그인 후 보게 되는 메인 페이지는 사용성을 고려하여 메뉴를 구성하고, 공지사항 및 자료실 등 자주\\n이용하거나, 정보 알림을 목적으로 하는 서비스는 화면에 표시하여 해당 서비스나 메시지로 직접 이동할 수\\n있도록 구성합니다.\\nGNB\\n- 주요 메뉴를 표시합니다.\\n- 접속 사용자 정보를 표시합니다.\\n- 사용할 수 있는 분석 서비스 목록을 표시합니다.\\n- 지식공유를 위한 게시판 및 자료실 메뉴를 표시합니다.\\n- 도움말 메뉴에서 서비스 소개 및 매뉴얼을 제공합니다.\\n- 사용자 권한별 동적 메뉴를 구성합니다.  \\n커뮤니티\\n- [공지사항] : 최근 공지사항을 최신 순으로 표시합니다.\\n- [자료실] : 최근 자료실 목록을 표시합니다.\\n- FAQ, Q&A 목록  \\nFOOTER\\n- Site Map 또는 포털의 간략 정보 등을 표시합니다.\\n3. 구축방안\\n4. 통합분석포탈', '2. 사용자 계정 관리 방안\\n사용자\\n시스템\\n(관리자)\\n신청정보 입력\\n승인완료/거절 메시지\\n사용자\\n시스템\\n(관리자)\\nID/비밀번호 입력\\n랜딩화면 진입\\n신청완료\\n권한그룹 할당\\n계정 활성화\\n계정신청화면\\n사용자관리화면\\n비밀번호변경 90일 검증\\n장기미사용 120일 검증\\nID/PW 일치시\\n권한그룹 활성화 검증\\n로그인성공 LOG\\nID/PW 불일치시\\n로그인실패 LOG\\n연속실패 횟수 검증\\n5회실패시, 계정 잠금\\nID 검증\\n비밀번호 검증\\n본인확인 매일 전송\\n메일확인 및\\n인증페이지 접속\\n인증완료\\n4. 통합분석포탈\\n3. 구축방안\\n사용자 계정 관리 및 통합 로그인 정책은 내부 보안정책을 반영하여 구현 합니다.', '3. 통합 로그인\\n통합분석포탈 서비스에 로그인하면 개별 분석 서비스의 API를 호출하여 자동 로그인이 되도록, 통합분석포탈의 표준 인터페이스를 설계함으로써, 추가되는 분석 서비스의 로그인 처리를 쉽게 개발할 수 있도록 구현합니다.\\nA\\nP\\nI\\n로그인\\n처리\\n분석 서비스\\n#1\\n통합\\n분석\\n포탈  \\nA\\nP\\nI\\n사용자 정보\\n4. 통합분석포탈\\n3. 구축방안\\nA\\nP\\nI\\n로그인\\n처리\\n분석 서비스\\n#2\\nA\\nP\\nI\\n로그인\\n처리\\n분석 서비스\\n#N\\n···', '4. 캠페인 연동 방안\\nLMOS 분석 시스템에서 분석 및 선정된 대상 고객은 LMOS 시스템에 파일로 저장하고, 캠페인 시스템에서 해당 파일을 가져가도록 구현 합니다.\\n[LMOS] → [캠페인 시스템]\\nLMOS\\n고객 대상군 선택\\n캠페인 시스템\\n고객 대상군 피일\\n대상군 저장\\n4. 통합분석포탈\\n3. 구축방안\\n고객 대상군 파일\\n: 개발범위', '5. 데이터 제공 요청\\n데이터 공유는 데이터 요청 기능을 통하여 구현하며, 민감한 데이터를 다룰 수 있으므로 데이터 요청은 담당부서의 승인과 요청자만 열람할 수 있도록 권한 관리 기능을 구현합니다.\\n데이터 요청자\\n데이터 요청 양식 작성\\n(등록)\\n데이터 열람 및 다운로드\\n데이터 담당자(승인)\\n데이터 요청 목록 확인\\n내부 결재 승인\\n요청 데이터 생성\\n데이터 생성 알림\\n요청자\\n개인자료실\\n4. 통합분석포탈\\n3. 구축방안', '6. 관리자 기능\\n메뉴관리\\n메뉴(화면) 추가,수정,삭제\\n하위 메뉴로 삽입 가능\\n순서 설정\\n활성/비활성 여부 설정\\n게시판 관리\\n- 생성/수정/삭제\\n- 댓글 관리\\n권한관리\\n권한그룹 추가,수정,삭제\\n권한그룹별 메뉴 접근\\n권한 설정\\n사용자관리\\n계정 신청에 대한 승인\\n잠금 계정에 대한 해제\\n권한 그룹 할당\\n감사관리\\n로그인 기록\\n활동 기록\\n- 데이터 요청\\n- 자료실 다운로드\\n관리자는 포털의 메뉴 관리와 사용자의 접근 권한을 관리할 수 있도록 하며, 감사 기능을 통하여 사용자의 접속 기록과 활동 기록을 조회 할 수 있도록 합니다.\\n4. 통합분석포탈\\n3. 구축방안', '1. 일정 계획\\n개발방법론을 이용하며 납기를 준수하고 사용자 요구사항을 충분히 반영한 고품질의 시스템을 구축하며,\\n1개월간의 안정화 기간을 통해  안정적으로 운영할 수 있도록 지원합니다.\\n분석 / 설계 완료\\n개발 완료\\n시스템 Open\\n착수보고\\n중간보고\\n완료보고\\n4. 추진일정\\n개발 완료\\n분석 / 설계 완료', '2. 인력 투입 계획\\nBI고도화 사업의 업무간 선후관계를 고려하고, 주요 핵심 업무의 일정을 기준으로 면밀한 일정 및 인력 투입계획을 수립하여 안정적으로 사업을 수행하겠습니다.\\n4. 추진일정', '1. 산출물 관리 방안\\n5. 프로젝트관리'], 'uris': None, 'data': None, 'metadatas': [{'Header': '슬라이드 1'}, {'Header': '슬라이드 2'}, {'Header': '슬라이드 3'}, {'Header': '슬라이드 4'}, {'Header': '슬라이드 5'}, {'Header': '슬라이드 6'}, {'Header': '슬라이드 7'}, {'Header': '슬라이드 8'}, {'Header': '슬라이드 9'}, {'Header': '슬라이드 10'}, {'Header': '슬라이드 11'}, {'Header': '슬라이드 12'}, {'Header': '슬라이드 13'}, {'Header': '슬라이드 14'}, {'Header': '슬라이드 15'}, {'Header': '슬라이드 16'}, {'Header': '슬라이드 17'}, {'Header': '슬라이드 18'}, {'Header': '슬라이드 19'}, {'Header': '슬라이드 20'}, {'Header': '슬라이드 21'}, {'Header': '슬라이드 22'}, {'Header': '슬라이드 23'}], 'included': [<IncludeEnum.documents: 'documents'>, <IncludeEnum.metadatas: 'metadatas'>]}\n"
     ]
    }
   ],
   "source": [
    "markdown_content, source_name = load_pptx_to_markdown_advanced(SAMPLE_PPT)\n",
    "documents = split_document_from_markdown(markdown_content, source_name)\n",
    "db = store_documents(documents)\n",
    "\n",
    "print(db.get())"
   ]
  },
  {
   "cell_type": "code",
   "execution_count": 62,
   "metadata": {},
   "outputs": [
    {
     "data": {
      "text/plain": [
       "[Document(id='1741ce9b-5c5e-4875-aaf8-7ff98de125de', metadata={'Header': '슬라이드 1'}, page_content='멤버스 BI 고도화\\n수행계획서\\n2018. 12. 07\\nDraft'),\n",
       " Document(id='0ff96d1a-62db-4a15-af63-b262a71fcc0d', metadata={'Header': '슬라이드 7'}, page_content='1. LMOS재구축\\nLMOS 재구축 분석 요구사항을 바탕으로 분석 유형별 리포트(대시보드, 정형, 비정형, 부서별, 개인리포트)를 구성하며, 캐시 및 스케줄링 적용, 다양한 방식의 분석 템플릿 제공 등 각 분석 유형별 특성에 적합한 솔루션 기술 요소를 적용하여 리포트를 개발합니다.\\n제휴사 분석\\n제휴사별 총 회원수 현황\\n제휴사별 이용 회원수 현황\\n제휴사별 이용속성별 현황\\n회원 분석\\n점별 신규회원 이용 현황\\n휴면회원 현황\\n우편번호별 회원 현황\\n포인트 분석\\n포인트 현황\\n적립/사용 현황\\n카드 실적\\n카드종류/발급구분 현황\\n멤버스 카드 발급현황\\n무기명 카드 교부 및 등록 현황\\n제휴사 분석\\nSSO 제휴사 현황\\n멤버스 분석\\n멤버스 가입 유형 현황\\n요일별 멤버스 분포\\n회원 분석\\n신규회원 현황\\n기간별 휴면회원 현황\\n제휴사별 탈퇴회원 현황\\n수수료 정산 분석\\n제휴사 유형별 수수료 현황\\n카드 종류별 수수료 현황\\n캠페인 분석\\n쿠폰 발행 대상 고객 추출\\n제휴사별 캠페인 대상 고객 추출\\n회원 분석\\n멤버스 가입 회원 유형 분석\\n회원 유형별 포인트 사용 패턴\\n제휴사 분석\\n제휴사 트렌드 분석\\n시스템관리\\n![image](data/output/images/그림_54.png)\\n접속 현황, 리포트 실행 현황, 개체 사용 현황 등 시스템 사용 통계 조회용 리포트\\n![image](data/output/images/그림_56.png)\\n개인리포트\\n![image](data/output/images/그림_59.png)\\n각 사용자별 리포트 영역\\n개인화 된 리포트 보관\\n![image](data/output/images/그림_61.png)\\n부서별리포트\\n![image](data/output/images/그림_64.png)\\n각 부서 단위의 공유 리포트\\n부서별 특화된 리포트\\n개인 생성 리포트를 부서내 공유시 활용\\n![image](data/output/images/그림_66.png)\\n시각화 및 동적 기능 활용\\n캐시 및 스케줄링 적용으로\\n리포트 성능 확보\\n사용하기 편리한 UI 적용\\n리포트 조회 결과를\\n다양한 OLAP 기능으로 분석\\n분석주제별\\n폴더링\\n반정형\\n리포트\\n리포트/큐브\\n템플릿\\nSelf-Visualization\\n사용자 리포트 저장 및 공유\\n시스템 유지관리에 필요한\\n각종 시스템 통계정보 제공\\n카드 분석\\n모집경로별 카드발급 현황\\n대시보드\\n정형 리포트\\n비정형 분석\\n3. 구축방안\\n3. LMOS 재구축'),\n",
       " Document(id='e3fa1bb5-5160-45d3-9d49-104652a925b7', metadata={'Header': '슬라이드 21'}, page_content='1. 일정 계획\\n개발방법론을 이용하며 납기를 준수하고 사용자 요구사항을 충분히 반영한 고품질의 시스템을 구축하며,\\n1개월간의 안정화 기간을 통해  안정적으로 운영할 수 있도록 지원합니다.\\n분석 / 설계 완료\\n개발 완료\\n시스템 Open\\n착수보고\\n중간보고\\n완료보고\\n4. 추진일정\\n개발 완료\\n분석 / 설계 완료'),\n",
       " Document(id='c1168538-68c3-4af2-8f5b-ac2d432eb235', metadata={'Header': '슬라이드 23'}, page_content='1. 산출물 관리 방안\\n5. 프로젝트관리')]"
      ]
     },
     "execution_count": 62,
     "metadata": {},
     "output_type": "execute_result"
    }
   ],
   "source": [
    "db.similarity_search(\"AI Agent 구축 제안서를 작성해 주세요\")"
   ]
  }
 ],
 "metadata": {
  "kernelspec": {
   "display_name": ".venv",
   "language": "python",
   "name": "python3"
  },
  "language_info": {
   "codemirror_mode": {
    "name": "ipython",
    "version": 3
   },
   "file_extension": ".py",
   "mimetype": "text/x-python",
   "name": "python",
   "nbconvert_exporter": "python",
   "pygments_lexer": "ipython3",
   "version": "3.11.9"
  }
 },
 "nbformat": 4,
 "nbformat_minor": 2
}
