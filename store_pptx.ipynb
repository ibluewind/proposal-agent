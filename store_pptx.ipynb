{
 "cells": [
  {
   "cell_type": "code",
   "execution_count": null,
   "metadata": {},
   "outputs": [],
   "source": [
    "from unstructured.partition.pptx import partition_pptx\n",
    "\n",
    "SAMPLE_PPTX = \"data/proposal-documents/[제안서]Ⅲ. 기술 및 기능_작성샘플.pptx\"\n",
    "\n",
    "elements = partition_pptx(SAMPLE_PPTX)\n",
    "\n",
    "print(len(elements))\n",
    "for element in elements:\n",
    "    print(\"=====\" * 20)\n",
    "    print(element.category)\n",
    "    print(element.text)\n",
    "    print(\"-----\" * 20)"
   ]
  },
  {
   "cell_type": "code",
   "execution_count": 6,
   "metadata": {},
   "outputs": [
    {
     "name": "stdout",
     "output_type": "stream",
     "text": [
      "Requirement already satisfied: python-pptx in c:\\users\\iblue\\projects\\navi\\proposal-agent\\.venv\\lib\\site-packages (1.0.2)\n",
      "Requirement already satisfied: Pillow>=3.3.2 in c:\\users\\iblue\\projects\\navi\\proposal-agent\\.venv\\lib\\site-packages (from python-pptx) (11.1.0)\n",
      "Requirement already satisfied: XlsxWriter>=0.5.7 in c:\\users\\iblue\\projects\\navi\\proposal-agent\\.venv\\lib\\site-packages (from python-pptx) (3.2.0)\n",
      "Requirement already satisfied: lxml>=3.1.0 in c:\\users\\iblue\\projects\\navi\\proposal-agent\\.venv\\lib\\site-packages (from python-pptx) (5.3.0)\n",
      "Requirement already satisfied: typing-extensions>=4.9.0 in c:\\users\\iblue\\projects\\navi\\proposal-agent\\.venv\\lib\\site-packages (from python-pptx) (4.12.2)\n"
     ]
    }
   ],
   "source": [
    "!pip install python-pptx"
   ]
  },
  {
   "cell_type": "code",
   "execution_count": 9,
   "metadata": {},
   "outputs": [],
   "source": [
    "from pptx import Presentation\n",
    "\n",
    "def ppt_to_pdf(input_ppt, output_pdf):\n",
    "    presentation = Presentation(input_ppt)\n",
    "    presentation.save(output_pdf)\n",
    "\n",
    "ppt_to_pdf(SAMPLE_PPTX, \"data/output/sample.pdf\")"
   ]
  }
 ],
 "metadata": {
  "kernelspec": {
   "display_name": ".venv",
   "language": "python",
   "name": "python3"
  },
  "language_info": {
   "codemirror_mode": {
    "name": "ipython",
    "version": 3
   },
   "file_extension": ".py",
   "mimetype": "text/x-python",
   "name": "python",
   "nbconvert_exporter": "python",
   "pygments_lexer": "ipython3",
   "version": "3.11.9"
  }
 },
 "nbformat": 4,
 "nbformat_minor": 2
}
