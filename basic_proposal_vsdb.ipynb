{
 "cells": [
  {
   "cell_type": "markdown",
   "metadata": {},
   "source": [
    "## 기본 langchain UnstructuredPowerPointLoader 사용\n"
   ]
  },
  {
   "cell_type": "code",
   "execution_count": 3,
   "metadata": {},
   "outputs": [],
   "source": [
    "from langchain_community.document_loaders import UnstructuredPowerPointLoader\n",
    "from dotenv import load_dotenv\n",
    "from pathlib import Path\n",
    "from langchain_chroma import Chroma\n",
    "from langchain_community.embeddings import OllamaEmbeddings\n",
    "import os\n",
    "import sys\n",
    "\n",
    "from agent.config import VECTORSTORE_DIR\n",
    "\n",
    "load_dotenv()\n",
    "\n",
    "# Chroma 벡터스토어 생성\n",
    "def get_vectorstore():\n",
    "    collection_name = os.getenv('BASIC_PROPOSAL_DB_NAME')\n",
    "    vectorstore = Chroma(\n",
    "        persist_directory=VECTORSTORE_DIR['db'],\n",
    "        embedding_function=OllamaEmbeddings(model=\"nomic-embed-text\"),\n",
    "        collection_name=collection_name\n",
    "    )\n",
    "    return vectorstore\n",
    "\n",
    "# 벡터 스토어에 파일이 존재하는지 확인\n",
    "def check_file_in_vectorstore(db, file_name):\n",
    "    result = db.get()\n",
    "\n",
    "    # 메타데이터가 있는지 확인\n",
    "    if not result['metadatas']:\n",
    "        return False\n",
    "    \n",
    "    found = False\n",
    "    for metadata in result['metadatas']:\n",
    "        if 'source' in metadata and file_name in metadata['source']:\n",
    "            found = True\n",
    "            break\n",
    "    if found:\n",
    "        print(f\"{file_name} 파일이 이미 존재합니다.\")\n",
    "    else:\n",
    "        print(f\"{file_name} 파일이 존재하지 않습니다.\")\n",
    "        \n",
    "    return found\n",
    "\n",
    "# PPT 파일을 로드하여 vectorstore에 저장\n",
    "def add_ppt_to_vectorstore(db, ppt_file_path):\n",
    "    loader = UnstructuredPowerPointLoader(ppt_file_path, mode=\"elements\")\n",
    "    documents = loader.load_and_split()\n",
    "    db.add_documents(documents)\n",
    "\n",
    "# vectorstore 디렉토리가 존재하는지 확인하고 없으면 생성\n",
    "def ensure_vectorstore_directory():\n",
    "    persist_dir = Path(VECTORSTORE_DIR['db'])\n",
    "    if not persist_dir.exists():\n",
    "        persist_dir.mkdir(parents=True)\n",
    "        print(f\"벡터스토어 디렉토리 생성됨: {persist_dir}\")\n",
    "    else:\n",
    "        print(f\"벡터스토어 디렉토리가 이미 존재함: {persist_dir}\")\n",
    "\n",
    "# PPT 파일을 찾아서 목록 생성\n",
    "def get_pptx_files():\n",
    "    # documents 디렉토리 경로\n",
    "    doc_dir = Path(VECTORSTORE_DIR['documents'])\n",
    "    \n",
    "    # .pptx 파일만 찾아서 목록 생성\n",
    "    pptx_files = list(doc_dir.glob('*.pptx'))\n",
    "    \n",
    "    if not pptx_files:\n",
    "        print(\"PPT 파일이 존재하지 않습니다.\")\n",
    "        return []\n",
    "    \n",
    "    print(f\"발견된 PPT 파일 목록:\")\n",
    "    for file in pptx_files:\n",
    "        print(f\"- {file.name}\")\n",
    "    \n",
    "    return pptx_files"
   ]
  },
  {
   "cell_type": "code",
   "execution_count": 5,
   "metadata": {},
   "outputs": [
    {
     "name": "stdout",
     "output_type": "stream",
     "text": [
      "벡터스토어 디렉토리가 이미 존재함: C:\\Users\\iblue\\Projects\\proposal-agent\\data\\vectorstore\n",
      "{'ids': [], 'embeddings': None, 'documents': [], 'uris': None, 'data': None, 'metadatas': [], 'included': [<IncludeEnum.documents: 'documents'>, <IncludeEnum.metadatas: 'metadatas'>]}\n",
      "PPT 파일이 존재하지 않습니다.\n"
     ]
    },
    {
     "ename": "SystemExit",
     "evalue": "0",
     "output_type": "error",
     "traceback": [
      "An exception has occurred, use %tb to see the full traceback.\n",
      "\u001b[1;31mSystemExit\u001b[0m\u001b[1;31m:\u001b[0m 0\n"
     ]
    }
   ],
   "source": [
    "ensure_vectorstore_directory()\n",
    "db = get_vectorstore()\n",
    "print(db.get())\n",
    "\n",
    "try:\n",
    "    pptx_files = get_pptx_files()\n",
    "except Exception as e:\n",
    "    print(f\"PPT 파일을 찾는 중 오류 발생: {e}\")\n",
    "\n",
    "\n",
    "if not pptx_files:\n",
    "    sys.exit(0)\n",
    "else:\n",
    "    for pptx in pptx_files:\n",
    "        if check_file_in_vectorstore(db, pptx.name):\n",
    "            print(f\"{pptx.name} 파일이 이미 존재합니다.\")\n",
    "        else:\n",
    "            try:    \n",
    "                pptx_path = os.path.join(VECTORSTORE_DIR['documents'], pptx.name)    \n",
    "                print(f\"{pptx_path} 파일을 벡터스토어에 저장합니다.\")\n",
    "                add_ppt_to_vectorstore(db, pptx_path)\n",
    "            except Exception as e:\n",
    "                print(f\"PPT 파일을 벡터스토어에 저장하는 중 오류 발생: {e}\")\n",
    "\n"
   ]
  }
 ],
 "metadata": {
  "kernelspec": {
   "display_name": ".venv",
   "language": "python",
   "name": "python3"
  },
  "language_info": {
   "codemirror_mode": {
    "name": "ipython",
    "version": 3
   },
   "file_extension": ".py",
   "mimetype": "text/x-python",
   "name": "python",
   "nbconvert_exporter": "python",
   "pygments_lexer": "ipython3",
   "version": "3.11.9"
  }
 },
 "nbformat": 4,
 "nbformat_minor": 2
}
